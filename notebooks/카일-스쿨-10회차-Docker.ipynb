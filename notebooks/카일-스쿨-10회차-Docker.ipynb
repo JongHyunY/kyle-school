{
 "cells": [
  {
   "cell_type": "markdown",
   "metadata": {
    "slideshow": {
     "slide_type": "slide"
    }
   },
   "source": [
    "## 카일 스쿨 10회차\n",
    "\n",
    "[![Hits](https://hits.seeyoufarm.com/api/count/incr/badge.svg?url=http%3A%2F%2Fzzsza.github.io%2Fkyle-school%2Fweek10)](https://hits.seeyoufarm.com)\n",
    "\n",
    "- #1. Docker 큰 개념\n",
    "- #2. 따라치며 배우는 도커\n",
    "- #3. Dockerfile 만들기\n",
    "    - Dockerhub와 GCR 이해하기\n",
    "- #4. 도커 이미지를 사용해 인스턴스 띄우기\n",
    "- #5. 도커를 사용해 Superset / Metabase 띄우기"
   ]
  },
  {
   "cell_type": "markdown",
   "metadata": {
    "slideshow": {
     "slide_type": "slide"
    }
   },
   "source": [
    "## Docker 큰 개념\n",
    "### 오늘 이것만은 꼭!\n",
    "- Docker란 무엇인지 이해한다\n",
    "- Docker Image Pull하기\n",
    "- Docker Container를 실행\n",
    "    - 로컬에서 Jupyter Notebook을 띄워보기\n",
    "- 서버에 Jupyter Notebook 띄우기\n",
    "- Dockerfile 작성하기"
   ]
  },
  {
   "cell_type": "markdown",
   "metadata": {
    "slideshow": {
     "slide_type": "subslide"
    }
   },
   "source": [
    "### Docker란 무엇인가\n",
    "- Docker는 환경을 격리해 이미지를 만들고, 실행해줌\n",
    "    - 피시방에서 재부팅해도 다시 그대로 프로그램이 그대로!\n",
    "    - 애플리케이션 + 환경 모두 같이 저장\n",
    "    - 도커 파일을 빌드 => 도커 이미지 : 명령어를 모두 실행한 결과\n",
    "    - 1년 사이에 특정 도구가 사라져있을 수 있다면? 도커 이미지는 특정 도구까지 품어서 만듬\n",
    "    - A 서버에선 라이브러리 설치, B에도 설치?\n",
    "    - GPU 환경설정 등을 쉽게 가능함\n",
    "    - 내 로컬에 파이썬 안깔고 깔끔하게 유지 가능 "
   ]
  },
  {
   "cell_type": "markdown",
   "metadata": {
    "slideshow": {
     "slide_type": "subslide"
    }
   },
   "source": [
    "- 도커가 등장하기 전 세상\n",
    "- 1) 배포\n",
    "    - 서버를 운영한다\n",
    "    - 배포한다!\n",
    "    - 파일을 ftp 등으로 보내고 인스턴스를 껐다 킴\n",
    "    - 서버가 50대라면..?"
   ]
  },
  {
   "cell_type": "markdown",
   "metadata": {
    "slideshow": {
     "slide_type": "fragment"
    }
   },
   "source": [
    "- 2) 환경\n",
    "    - 우리에겐 pyenv, virtualenv도 있지만.. 리눅스 환경 자체를 원한다면?\n",
    "    - 인스턴스 실행하고 터미널 명령어 계속 치는 방식?"
   ]
  },
  {
   "cell_type": "markdown",
   "metadata": {
    "slideshow": {
     "slide_type": "fragment"
    }
   },
   "source": [
    "- 3) 이런 적 있지 않나요\n",
    "    - GPU 엔비디아 설치...\n",
    "    - 뭔가 안된다 => 스택오브플로우 => 음 다시 하래 => 음"
   ]
  },
  {
   "cell_type": "markdown",
   "metadata": {
    "slideshow": {
     "slide_type": "subslide"
    }
   },
   "source": [
    "- 도커 관련 용어 설명\n",
    "    - 이미지 : 일종의 템플릿\n",
    "    - 컨테이너 : 이미지를 가지고 실행\n",
    "    - 도커 허브 : 템플릿 창고\n",
    "    - 호스트 : 시스템의 핵심이 되는 PC"
   ]
  },
  {
   "cell_type": "markdown",
   "metadata": {
    "slideshow": {
     "slide_type": "subslide"
    }
   },
   "source": [
    "- 도커 설치\n",
    "    - Docker Desktop 설치\n",
    "    - https://docs.docker.com/get-docker/"
   ]
  },
  {
   "cell_type": "markdown",
   "metadata": {
    "slideshow": {
     "slide_type": "slide"
    }
   },
   "source": [
    "### 따라치며 배우는 도커\n",
    "- 도커 명령어\n",
    "    - docker\n",
    "    - docker image pull\n",
    "    - docker image ls\n",
    "    - docker run\n",
    "    - docker exec\n",
    "    - docker container\n",
    "    - docker build"
   ]
  },
  {
   "cell_type": "markdown",
   "metadata": {
    "slideshow": {
     "slide_type": "subslide"
    }
   },
   "source": [
    "- docker image pull\n",
    "    - docker image를 땡겨오는 명령어\n",
    "    \n",
    "    ```\n",
    "    docker image pull jupyter/minimal-notebook\n",
    "    ```"
   ]
  },
  {
   "cell_type": "markdown",
   "metadata": {
    "slideshow": {
     "slide_type": "subslide"
    }
   },
   "source": [
    "- docker image ls\n",
    "    - 현재 있는 도커 이미지를 출력\n",
    "    - `-a` 조건을 주면 전체 이미지 출력\n",
    "    \n",
    "    ```\n",
    "    docker image ls\n",
    "    ```"
   ]
  },
  {
   "cell_type": "markdown",
   "metadata": {
    "slideshow": {
     "slide_type": "subslide"
    }
   },
   "source": [
    "- docker run\n",
    "    - docker image 기반으로 컨테이너 실행\n",
    "    - 실행할 때 포트 정보를 같이 인자로 넘겨야 함\n",
    "    \n",
    "    ```\n",
    "    docker run -p 8888:8888 jupyter/minimal-notebook\n",
    "    ```\n",
    "    \n",
    "    - -p host_port:container_port\n",
    "    - `-d` 옵션을 주면 백그라운드에서 실행\n"
   ]
  },
  {
   "cell_type": "markdown",
   "metadata": {
    "slideshow": {
     "slide_type": "subslide"
    }
   },
   "source": [
    "- docker container ls\n",
    "    - 현재 실행중인 컨테이너 출력"
   ]
  },
  {
   "cell_type": "markdown",
   "metadata": {
    "slideshow": {
     "slide_type": "subslide"
    }
   },
   "source": [
    "- docker exec\n",
    "    - 컨테이너 안에 명령을 날리고 싶은 경우\n",
    "        - 1) 컨테이너 안에 들어가서 명령을 날려도 되고\n",
    "        - 2) exec을 써도 됨 : 이 방법\n",
    "    - docker exec b8314275379e pip install tensorflow "
   ]
  },
  {
   "cell_type": "markdown",
   "metadata": {
    "slideshow": {
     "slide_type": "subslide"
    }
   },
   "source": [
    "- docker 컨테이너 안으로 들어가기\n",
    "    - docker exec\n",
    "    - -it : interactive tty 접속한다는 뜻. 일단 -it를 많이 쓴다고 알아두어도 좋아요\n",
    "    \n",
    "    ```\n",
    "    docker exec -it container_id /bin/bash\n",
    "    ```"
   ]
  },
  {
   "cell_type": "markdown",
   "metadata": {
    "slideshow": {
     "slide_type": "subslide"
    }
   },
   "source": [
    "- docker run 취소\n",
    "    - docker run 했던 터미널을 취소(command c)하고 다시 실행해봅시다\n",
    "    - tensorflow를 import하면?\n",
    "    - 안됩니다\n",
    "    - docker run은 한번만 일회성으로 띄우고, 끄는 순간 꺼집니다"
   ]
  },
  {
   "cell_type": "markdown",
   "metadata": {
    "slideshow": {
     "slide_type": "subslide"
    }
   },
   "source": [
    "- Volume mount\n",
    "    - 호스트와 컨테이너끼리 파일 공유가 안됨 => 삭제됨\n",
    "    - 볼륨 마운트로 진행\n",
    "    - v option을 주면 가능함\n",
    "    \n",
    "    ```\n",
    "    docker run -it -p 8888:8888 -v /some/host/folder/for/work:/home/jovyan/workspace jupyter/minimal-notebook\n",
    "    ```"
   ]
  },
  {
   "cell_type": "markdown",
   "metadata": {
    "slideshow": {
     "slide_type": "subslide"
    }
   },
   "source": [
    "- 자 여기서 실습\n",
    "    - jupyter notebook(jupyter/minimal-notebook) 띄우기\n",
    "    - 컨테이너로 직접 들어가서 라이브러리 설치하기\n",
    "    - Docker Volume 싱크 확인하기(컨테이너 종료해서 다시 켜볼 때 공유되는 폴더가 있는지?)"
   ]
  },
  {
   "cell_type": "markdown",
   "metadata": {
    "slideshow": {
     "slide_type": "slide"
    }
   },
   "source": [
    "### Dockerfile\n",
    "- Docker 명령어 모음\n",
    "- 보통 도커파일을 많이 사용함\n",
    "- Dockerfile은 이미지를 만드는데 필요한 모든 명령을 순서대로 포함하는 텍스트 파일\n",
    "- 각 명령을 읽어서 이미지를 빌드함\n",
    "- FROM, COPY, RUN, EXPOSE, ENV, CMD, ENTRYPOINT, WORKDIR, USER, VOLUME 등을 사용함. 잘 설명된 [링크](https://rampart81.github.io/post/dockerfile_instructions)"
   ]
  },
  {
   "cell_type": "markdown",
   "metadata": {
    "slideshow": {
     "slide_type": "subslide"
    }
   },
   "source": [
    "- Dockerfile이란 파일을 사용하며, docker build -t dev/dev:v1 . 이런 식으로 자주 씀\n",
    "\n",
    "```\n",
    "FROM jupyter/minimal-notebook\n",
    "RUN pip install tensorflow\n",
    "```"
   ]
  },
  {
   "cell_type": "markdown",
   "metadata": {
    "slideshow": {
     "slide_type": "subslide"
    }
   },
   "source": [
    "- RUN과 CMD, ENTRYPOINT의 차이\n",
    "    - RUN은 이미지 빌드 과정에서 진행. 컨테이너 이미지에 커밋됨\n",
    "    - CMD는 빌드된 이미지를 시작할 때 컨테이너가 실행하는 명령. docker run할 때 인자값을 전달해 실행하면 CMD는 무시됨\n",
    "    - ENTRYPOINT: docker run시 실행되는 명령, 단 한번만 사용. RUN 또는 start 때 사용됨\n",
    "    "
   ]
  },
  {
   "cell_type": "markdown",
   "metadata": {
    "slideshow": {
     "slide_type": "subslide"
    }
   },
   "source": [
    "- 아래와 같은 Dockerfile을 만들어봅시다\n",
    "\n",
    "```\n",
    "FROM jupyter/minimal-notebook\n",
    "RUN pip install tensorflow\n",
    "RUN jupyter notebook --generate-config --allow-root -y  \\\n",
    "    && echo \"c.NotebookApp.password = 'sha1:fee705da7ee3:39094efec15c2bc5f651b88fdd5536685b5fd229'\" >> /home/jovyan/.jupyter/jupyter_notebook_config.py\n",
    "\n",
    "EXPOSE 8888\n",
    "\n",
    "ENTRYPOINT jupyter notebook --allow-root --ip=0.0.0.0 --port=8888 --no-browser \n",
    "```"
   ]
  },
  {
   "cell_type": "markdown",
   "metadata": {
    "slideshow": {
     "slide_type": "subslide"
    }
   },
   "source": [
    "- docker image 찾기 팁\n",
    "    - [Dockerhub](https://hub.docker.com/) 가입\n",
    "    - 원하는 검색어를 사용하면 여러 도커 이미지가 나옴\n",
    "    - <img src=\"https://www.dropbox.com/s/3zqffrtx5352g7k/%EC%8A%A4%ED%81%AC%EB%A6%B0%EC%83%B7%202020-08-14%20%EC%98%A4%EC%A0%84%2012.01.51.png?raw=1\">"
   ]
  },
  {
   "cell_type": "markdown",
   "metadata": {
    "slideshow": {
     "slide_type": "subslide"
    }
   },
   "source": [
    "- Airflow 이미지 선택\n",
    "    - <img src=\"https://www.dropbox.com/s/0pn236b9rjhnfzf/%EC%8A%A4%ED%81%AC%EB%A6%B0%EC%83%B7%202020-08-14%20%EC%98%A4%EC%A0%84%2012.03.19.png?raw=1\">"
   ]
  },
  {
   "cell_type": "markdown",
   "metadata": {
    "slideshow": {
     "slide_type": "subslide"
    }
   },
   "source": [
    "- Tags 확인\n",
    "    - <img src=\"https://www.dropbox.com/s/8ea2zubz2cmmrdr/%EC%8A%A4%ED%81%AC%EB%A6%B0%EC%83%B7%202020-08-14%20%EC%98%A4%EC%A0%84%2012.04.10.png?raw=1\">"
   ]
  },
  {
   "cell_type": "markdown",
   "metadata": {
    "slideshow": {
     "slide_type": "subslide"
    }
   },
   "source": [
    "- Dockerfile을 공개하는 이미지도 있음\n",
    "    - <img src=\"https://www.dropbox.com/s/5q4ofcw5m1pzhzf/%EC%8A%A4%ED%81%AC%EB%A6%B0%EC%83%B7%202020-08-14%20%EC%98%A4%EC%A0%84%2012.04.45.png?raw=1\">"
   ]
  },
  {
   "cell_type": "markdown",
   "metadata": {
    "slideshow": {
     "slide_type": "slide"
    }
   },
   "source": [
    "### GCR\n",
    "- Google Container Registry\n",
    "- Google Cloud Platform에서 만든 도커 허브라고 생각하면 편함\n",
    "- 여기도 Docker 이미지를 push하고 pull할 수 있음\n",
    "- sha1:~~~ 은 kyle을 암호화한 것\n",
    "\n",
    "```\n",
    "FROM jupyter/minimal-notebook\n",
    "RUN pip install tensorflow\n",
    "RUN jupyter notebook --generate-config --allow-root -y  \\\n",
    "    && echo \"c.NotebookApp.password = 'sha1:fee705da7ee3:39094efec15c2bc5f651b88fdd5536685b5fd229'\" >> /home/jovyan/.jupyter/jupyter_notebook_config.py\n",
    "\n",
    "EXPOSE 8888\n",
    "\n",
    "ENTRYPOINT jupyter notebook --allow-root --ip=0.0.0.0 --port=8888 --no-browser \n",
    "```"
   ]
  },
  {
   "cell_type": "markdown",
   "metadata": {
    "slideshow": {
     "slide_type": "subslide"
    }
   },
   "source": [
    "- <img src=\"https://www.dropbox.com/s/et4bu33kyox7lt2/%EC%8A%A4%ED%81%AC%EB%A6%B0%EC%83%B7%202020-08-14%20%EC%98%A4%EC%A0%84%201.27.01.png?raw=1\">"
   ]
  },
  {
   "cell_type": "markdown",
   "metadata": {
    "slideshow": {
     "slide_type": "subslide"
    }
   },
   "source": [
    "- Container Registry API 사용 설정\n",
    "    - <img src=\"https://www.dropbox.com/s/jasz1tpa2tsurme/%EC%8A%A4%ED%81%AC%EB%A6%B0%EC%83%B7%202020-08-14%20%EC%98%A4%EC%A0%84%201.27.38.png?raw=1\">"
   ]
  },
  {
   "cell_type": "markdown",
   "metadata": {
    "slideshow": {
     "slide_type": "subslide"
    }
   },
   "source": [
    "- 빌드\n",
    "    - gcloud builds submit --tag gcr.io/bigquery-definitive/simple_notebook .\n",
    "        - bigquery-definitive엔 여러분의 project_id를 넣어주세요\n",
    "    - 빌드된 이미지 확인\n",
    "        - <img src=\"https://www.dropbox.com/s/m3clige0xibrkua/%EC%8A%A4%ED%81%AC%EB%A6%B0%EC%83%B7%202020-08-14%20%EC%98%A4%EC%A0%84%201.38.33.png?raw=1\">"
   ]
  },
  {
   "cell_type": "markdown",
   "metadata": {
    "slideshow": {
     "slide_type": "slide"
    }
   },
   "source": [
    "- Compute Engine에서 쉽게 사용하는 방법\n",
    "    - gcr 링크 복사하기 : gcr.io/bigquery-definitive/simple_notebook\n",
    "    - <img src=\"https://www.dropbox.com/s/280gnhfvukf584o/%EC%8A%A4%ED%81%AC%EB%A6%B0%EC%83%B7%202020-08-14%20%EC%98%A4%EC%A0%84%201.46.52.png?raw=1\">"
   ]
  },
  {
   "cell_type": "markdown",
   "metadata": {
    "slideshow": {
     "slide_type": "subslide"
    }
   },
   "source": [
    "- VPC 네트워크 - 방화벽 이동\n",
    "    - 8888 포트를 열어줘야 함\n",
    "    - <img src=\"https://www.dropbox.com/s/sf1maedqz8p5f5n/%EC%8A%A4%ED%81%AC%EB%A6%B0%EC%83%B7%202020-08-14%20%EC%98%A4%EC%A0%84%202.05.16.png?raw=1\">"
   ]
  },
  {
   "cell_type": "markdown",
   "metadata": {
    "slideshow": {
     "slide_type": "subslide"
    }
   },
   "source": [
    "- Compute Engine으로 이동하기\n",
    "    - VM 인스턴스 만들기 - 이 VM 인스턴스에 컨테이너 이미지를 배포합니다 클릭\n",
    "    - <img src=\"https://www.dropbox.com/s/qlc1kwqt5j82lsp/%EC%8A%A4%ED%81%AC%EB%A6%B0%EC%83%B7%202020-08-14%20%EC%98%A4%EC%A0%84%201.56.48.png?raw=1\">"
   ]
  },
  {
   "cell_type": "markdown",
   "metadata": {
    "slideshow": {
     "slide_type": "subslide"
    }
   },
   "source": [
    "- Volume Mount 설정\n",
    "    - `home/jovyan/workspace`\n",
    "    - <img src=\"https://www.dropbox.com/s/ex9v9bl5tlyl7na/%EC%8A%A4%ED%81%AC%EB%A6%B0%EC%83%B7%202020-08-14%20%EC%98%A4%EC%A0%84%202.01.07.png?raw=1\">"
   ]
  },
  {
   "cell_type": "markdown",
   "metadata": {
    "slideshow": {
     "slide_type": "subslide"
    }
   },
   "source": [
    "- 네트워크 태그에 위에서 만든 jupyter 네트워크 방화벽 설정\n",
    "- 인스턴스 확인\n",
    "    - <img src=\"https://www.dropbox.com/s/a8wd6j2hud4zwad/%EC%8A%A4%ED%81%AC%EB%A6%B0%EC%83%B7%202020-09-09%20%EC%98%A4%ED%9B%84%209.38.00.png?raw=1\">\n",
    "    "
   ]
  },
  {
   "cell_type": "markdown",
   "metadata": {
    "slideshow": {
     "slide_type": "subslide"
    }
   },
   "source": [
    "- 인스턴스 ip를 사용해서 노트북 포트(8888)로 이동\n",
    "    - <img src=\"https://www.dropbox.com/s/20tm0n2vzmwd7ww/%EC%8A%A4%ED%81%AC%EB%A6%B0%EC%83%B7%202020-09-09%20%EC%98%A4%ED%9B%84%209.37.31.png?raw=1\">\n",
    "- 만약 도커 이미지에 이상이 있다면 다시 빌드 => 인스턴스 종료 후 다시 시작하면 최신 도커 이미지 사용함"
   ]
  },
  {
   "cell_type": "markdown",
   "metadata": {
    "slideshow": {
     "slide_type": "slide"
    }
   },
   "source": [
    "### Docker Image 사용시 불편한 점\n",
    "- 옵션이 다양함\n",
    "    - 실행시 작성해야 하는 명령어 옵션이 많고, 귀찮음\n",
    "    - 미리 정의해둘 수 없을까?\n",
    "- 컨테이너의 순서를 제어할 수 없을까?\n",
    "    - A 컨테이너를 먼저 띄우고, B 컨테이너를 실행해야 하는 경우\n",
    "    - 예를 들어 Database 컨테이너를 먼저 띄우고 어플리케이션 컨테이너를 띄워야하는 경우"
   ]
  },
  {
   "cell_type": "markdown",
   "metadata": {
    "slideshow": {
     "slide_type": "subslide"
    }
   },
   "source": [
    "- Docker Compose\n",
    "    - 위에 나오는 이슈들을 해결하기 위해 나옴\n",
    "    - 여러 컨테이너를 한번에 띄울 수 있음\n",
    "    - 여러 컨테이너의 실행 순서, 의존도를 관리할 수 있음\n",
    "    - `docker-compose.yml` 파일에 작성함"
   ]
  },
  {
   "cell_type": "markdown",
   "metadata": {
    "slideshow": {
     "slide_type": "subslide"
    }
   },
   "source": [
    "- simple notebook docker-compose.yml 파일\n",
    "\n",
    "```\n",
    "version: '3' # 파일 규격 버전\n",
    "\n",
    "services: # 컨테이너들을 정의\n",
    "  notebook: # notebook 서비스\n",
    "      image: jupyter/minimal-notebook # notebook 서비스에서 사용할 도커 이미지\n",
    "      container_name: notebook # 컨테이너 이름\n",
    "      volumes:  # --volume 옵션 사용해서 연결하는 부분\n",
    "          - ./docker-volume:/home/jovyan/workspace\n",
    "      ports: # ports 호스트:컨테이너\n",
    "          - 8888:8888\n",
    "      command:\n",
    "        jupyter notebook --allow-root --ip=0.0.0.0 --no-browser\n",
    "```"
   ]
  },
  {
   "cell_type": "markdown",
   "metadata": {
    "slideshow": {
     "slide_type": "subslide"
    }
   },
   "source": [
    "- 백그라운드에서 실행하기(docker run -d와 동일) : docker-compose up -d\n",
    "- 서비스 중단(컨테이너, 볼륨 등 삭제) : docker-compose down\n",
    "- 실행 중 서비스 확인 : docker-compose ps\n",
    "- 로그 확인 : docker-compose logs <서비스명>\n",
    "- 파\n",
    "- 알아두면 좋은 지식\n",
    "    - docker-compose.yml 파일을 수정했으면 => up을 하면 컨테이너 재생성 후 서비스 재시작함"
   ]
  },
  {
   "cell_type": "markdown",
   "metadata": {
    "slideshow": {
     "slide_type": "subslide"
    }
   },
   "source": [
    "- [Airflow Dockerfile](https://github.com/puckel/docker-airflow) 띄우기\n",
    "    \n",
    "    ```\n",
    "    git clone https://github.com/puckel/docker-airflow\n",
    "    cd docker-airflow\n",
    "    docker-compose -f docker-compose-CeleryExecutor.yml up\n",
    "    ```\n",
    "    \n",
    "- 혹시 Bind for 0.0.0.0:5555 failed: port is already allocated 에러가 발생하는 경우\n",
    "    - docker container ls로 실행된 컨테이너 중 포트 사용하는거 확인하고 \n",
    "    - docker rm -f <컨테이너 id>로 삭제"
   ]
  },
  {
   "cell_type": "markdown",
   "metadata": {
    "slideshow": {
     "slide_type": "subslide"
    }
   },
   "source": [
    "- PostgreSQL Dockerfile\n",
    "    - docker-compose up -d\n",
    "\n",
    "    ```\n",
    "    version: '3' # 파일 규격 버전\n",
    "\n",
    "    services: # 컨테이너들을 정의\n",
    "        postgresql: # postgresql 서비스\n",
    "            image: postgres # postgresql 서비스에서 사용할 도커 이미지\n",
    "            container_name: postgresql # 컨테이너 이름\n",
    "            volumes:  # --volume 옵션 사용해서 연결하는 부분\n",
    "                - ./postgresql/data:/var/lib/postgresql/data\n",
    "            ports: # ports 호스트:컨테이너\n",
    "                - 5432:5432\n",
    "            environment: # 환경 변수\n",
    "                POSTGRES_PASSWORD: \"password\"\n",
    "                TZ: \"Asia/Seoul\"\n",
    "    ```"
   ]
  },
  {
   "cell_type": "markdown",
   "metadata": {
    "slideshow": {
     "slide_type": "subslide"
    }
   },
   "source": [
    "### Superset Docker\n",
    "```\n",
    "git clone https://github.com/apache/incubator-superset/\n",
    "cd incubator-superset\n",
    "docker-compose up\n",
    "```\n",
    "\n",
    "- 만약 Bind for 127.0.0.1:5432 failed: port is already allocated 에러가 난다면 5432 포트에 이미 선점한 것이 있을 수 있음\n",
    "    - 아마 postgre일 수 있음\n",
    "    - docker container ls로 확인 후 \n",
    "    - docker rm -f <컨테이너 id>\n",
    "    - 또는 아래 명령어 실행\n",
    "\n",
    "```\n",
    "docker-compose down\n",
    "docker rm -fv $(docker ps -aq)\n",
    "sudo lsof -i -P -n | grep 5432\n",
    "sudo kill -9 <process id>\n",
    "```\n"
   ]
  },
  {
   "cell_type": "markdown",
   "metadata": {
    "slideshow": {
     "slide_type": "subslide"
    }
   },
   "source": [
    "- docker-airflow\n",
    "    - localhost:8088에서 실행\n",
    "    - id, password : admin, admin\n",
    "\n",
    "```\n",
    "docker-compose up -d\n",
    "git clone https://github.com/abhioncbr/docker-superset\n",
    "\n",
    "\n",
    "cd docker-files\n",
    "docker-compose up -d\n",
    "```"
   ]
  },
  {
   "cell_type": "markdown",
   "metadata": {
    "slideshow": {
     "slide_type": "subslide"
    }
   },
   "source": [
    "- proxy: listen tcp 0.0.0.0:6379: bind: address already in use 이 에러가 뜬다면\n",
    "\n",
    "```\n",
    "docker-compose down\n",
    "docker rm -fv $(docker ps -aq)\n",
    "sudo lsof -i -P -n | grep 6379\n",
    "sudo kill -9 6379\n",
    "```\n",
    "\n",
    "- <img src=\"https://www.dropbox.com/s/ifw0myziveh8omc/%EC%8A%A4%ED%81%AC%EB%A6%B0%EC%83%B7%202020-09-10%20%EC%98%A4%ED%9B%84%209.51.12.png?raw=1\">"
   ]
  },
  {
   "cell_type": "markdown",
   "metadata": {
    "slideshow": {
     "slide_type": "subslide"
    }
   },
   "source": [
    "### Metabase Docker\n",
    "```\n",
    "docker run -d -p 3000:3000 --name metabase metabase/metabase\n",
    "```\n",
    "\n",
    "- <img src=\"https://www.dropbox.com/s/zh7vnr1hn5h2q5z/%EC%8A%A4%ED%81%AC%EB%A6%B0%EC%83%B7%202020-09-09%20%EC%98%A4%ED%9B%84%208.39.43.png?raw=1\">"
   ]
  },
  {
   "cell_type": "markdown",
   "metadata": {
    "slideshow": {
     "slide_type": "subslide"
    }
   },
   "source": [
    "### Reference\n",
    "\n",
    "- https://subicura.com/2017/01/19/docker-guide-for-beginners-2.html\n",
    "- jupyter notebook docker : https://towardsdatascience.com/docker-jupyter-for-machine-learning-in-1-minute-30e1df969d09\n",
    "- http://moducon.kr/2018/wp-content/uploads/sites/2/2018/12/leesangsoo_slide.pdf"
   ]
  }
 ],
 "metadata": {
  "celltoolbar": "Slideshow",
  "kernelspec": {
   "display_name": "Python 3",
   "language": "python",
   "name": "python3"
  },
  "language_info": {
   "codemirror_mode": {
    "name": "ipython",
    "version": 3
   },
   "file_extension": ".py",
   "mimetype": "text/x-python",
   "name": "python",
   "nbconvert_exporter": "python",
   "pygments_lexer": "ipython3",
   "version": "3.7.4"
  },
  "varInspector": {
   "cols": {
    "lenName": 16,
    "lenType": 16,
    "lenVar": 40
   },
   "kernels_config": {
    "python": {
     "delete_cmd_postfix": "",
     "delete_cmd_prefix": "del ",
     "library": "var_list.py",
     "varRefreshCmd": "print(var_dic_list())"
    },
    "r": {
     "delete_cmd_postfix": ") ",
     "delete_cmd_prefix": "rm(",
     "library": "var_list.r",
     "varRefreshCmd": "cat(var_dic_list()) "
    }
   },
   "types_to_exclude": [
    "module",
    "function",
    "builtin_function_or_method",
    "instance",
    "_Feature"
   ],
   "window_display": false
  }
 },
 "nbformat": 4,
 "nbformat_minor": 2
}
