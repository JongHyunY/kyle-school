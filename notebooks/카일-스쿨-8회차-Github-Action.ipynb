{
 "cells": [
  {
   "cell_type": "markdown",
   "metadata": {
    "slideshow": {
     "slide_type": "slide"
    }
   },
   "source": [
    "## 카일 스쿨 8회차\n",
    "- [![Hits](https://hits.seeyoufarm.com/api/count/incr/badge.svg?url=http%3A%2F%2Fzzsza.github.io%2Fkyle-school%2Fweek8)](https://hits.seeyoufarm.com)\n",
    "- #1. Github Action\n",
    "    - 첫 Github Action\n",
    "    - YES24 IT 신간 40개 크롤링해서 Issue에 올리는 Github Action"
   ]
  },
  {
   "cell_type": "markdown",
   "metadata": {
    "slideshow": {
     "slide_type": "slide"
    }
   },
   "source": [
    "### 1. Github Action\n",
    "- [공식 홈페이지](https://github.com/features/actions), [공식 문서](https://help.github.com/en/actions)   \n",
    "- 소프트웨어 workflow를 자동화할 수 있도록 도와주는 도구"
   ]
  },
  {
   "cell_type": "markdown",
   "metadata": {
    "slideshow": {
     "slide_type": "subslide"
    }
   },
   "source": [
    "- workflow의 대표적인 예\n",
    "- 1) Test Code\n",
    "    - ex) df의 타입이 pd.DataFrame이 맞는가\n",
    "    - ex) value1에 특정 값이 들어가는가?\n",
    "    - ex) 특정 함수의 테스트 코드가 정상적으로 작동하는가?\n",
    "    - 쿼리를 날리고 데이터가 맞는지 정합성 체크하는 것도 테스트의 일종이라 볼 수 있음"
   ]
  },
  {
   "cell_type": "markdown",
   "metadata": {
    "slideshow": {
     "slide_type": "subslide"
    }
   },
   "source": [
    "- workflow의 대표적인 예\n",
    "- 2) 배포\n",
    "    - 코드가 어디서 작동할까?\n",
    "    - 서버에서 작동!\n",
    "    - 서버에 코드를 어떻게 보내야할까?\n",
    "    - 단순한 방법 예시 : 그냥 소스코드를 그대로 scp로 보낸다\n",
    "        - 이런 것들을 수동으로 하려면 => 소스코드를 git clone 받고, checkout하고, 압축해서 scp하고 압축 풀고 작동중 프로그램 껐다 키고..\n",
    "    - 고도화된 방법 예시 : 쿠버네티스에 배포한다"
   ]
  },
  {
   "cell_type": "markdown",
   "metadata": {
    "slideshow": {
     "slide_type": "subslide"
    }
   },
   "source": [
    "- 이런 행동들을 자동화할 때 도와주는 도구\n",
    "- Github에 연동되서 특정 행동이 발생할 때 실행되도록 설정 가능\n",
    "    - 예 : 커밋시, 새로운 브랜치 생성시, 태그 생성시 등\n",
    "- Public이면 추가 서버 비용이 들지 않음\n",
    "- [Github Marketplace](https://github.com/marketplace?type=actions)에서 어떤 도구들이 있는지 확인 가능함\n",
    "    "
   ]
  },
  {
   "cell_type": "markdown",
   "metadata": {
    "slideshow": {
     "slide_type": "subslide"
    }
   },
   "source": [
    "- 가격\n",
    "    - Public repo : 무료\n",
    "    - Private repo : [링크](https://help.github.com/en/github/setting-up-and-managing-billing-and-payments-on-github/about-billing-for-github-actions) 참고, 한달에 500MB 스토리지와 실행 시간 2,000분이 무료로 제공됨(무료 계정의 경우)"
   ]
  },
  {
   "cell_type": "markdown",
   "metadata": {
    "slideshow": {
     "slide_type": "subslide"
    }
   },
   "source": [
    "- 사용할 수 있는 한도\n",
    "    - Workflow는 하나의 Repo에 최대 20개까지 등록할 수 있음\n",
    "    - Workflow 안에 존재하는 Job은 6시간동안 실행될 수 있고, 초과시 자동으로 중지됨\n",
    "    - 동시에 실행할 수 있는 Job 개수가 정해짐"
   ]
  },
  {
   "cell_type": "markdown",
   "metadata": {
    "slideshow": {
     "slide_type": "subslide"
    }
   },
   "source": [
    "- Github Action 사용하는 방식\n",
    "    - 1) 코드 작성\n",
    "    - 2) 코드 작성 후, 진행할 workflow 정의(Test Code, 배포, 단순 작업 등)\n",
    "    - 3) 정상 작동하는지 Test"
   ]
  },
  {
   "cell_type": "markdown",
   "metadata": {
    "slideshow": {
     "slide_type": "subslide"
    }
   },
   "source": [
    "- Workflow 시작하기\n",
    "    - 기본적인 방법 : `.github/worfklows` 폴더 안에 `.yml` 파일을 생성 => 템플릿이 있어요\n",
    "    - Github Repo에서 Actions 클릭\n",
    "    - <img src=\"https://www.dropbox.com/s/xuefekjnxhpopu4/Screenshot%202020-05-30%2015.08.15.png?raw=1\" width=\"800\" height=\"800\">"
   ]
  },
  {
   "cell_type": "markdown",
   "metadata": {
    "slideshow": {
     "slide_type": "subslide"
    }
   },
   "source": [
    "- <img src=\"https://www.dropbox.com/s/9xayfkoe50ypmg3/Screenshot%202020-05-30%2015.08.46.png?raw=1\" width=\"800\" height=\"800\">"
   ]
  },
  {
   "cell_type": "markdown",
   "metadata": {
    "slideshow": {
     "slide_type": "subslide"
    }
   },
   "source": [
    "- Set up this workflow 클릭하면 간단한 workflow 생성할 수 있음\n",
    "    - <img src=\"https://www.dropbox.com/s/w2710nhfvigb433/Screenshot%202020-05-30%2015.09.40.png?raw=1\" width=\"800\" height=\"800\">"
   ]
  },
  {
   "cell_type": "markdown",
   "metadata": {
    "slideshow": {
     "slide_type": "subslide"
    }
   },
   "source": [
    "- Workflow 구성\n",
    "    - 특정 이벤트 발생시 실행\n",
    "    - Jobs에 Job들을 정의하고, 여러 Step을 정의할 수 있음(마치 Airflow와 비슷한 느낌)\n",
    "    - Steps에서 커맨드 실행 또는 이미 만들어진 액션을 사용할 수 있음"
   ]
  },
  {
   "cell_type": "markdown",
   "metadata": {
    "slideshow": {
     "slide_type": "subslide"
    }
   },
   "source": [
    "- yml 파일 구성\n",
    "    - name : workflow의 구성\n",
    "    - on : 언제 실행할 것인지? \n",
    "        - push - master : master에 push될 경우\n",
    "        - pul_requests - master : master에 pull requests가 올 경우\n",
    "    - Jobs 인자 안에 여러 Job들이 존재\n",
    "    - Jobs를 어디서 실행할 지는 runs-on에 지정\n",
    "    - Job들은 name, run으로 구성"
   ]
  },
  {
   "cell_type": "markdown",
   "metadata": {
    "slideshow": {
     "slide_type": "subslide"
    }
   },
   "source": [
    "- 이벤트 트리거는 언제 가능할까?\n",
    "    - 1) Push, Pull Request\n",
    "    - 2) Crontab처럼 반복적인 상황\n",
    "    - 3) REST API를 호출시 실행"
   ]
  },
  {
   "cell_type": "markdown",
   "metadata": {
    "slideshow": {
     "slide_type": "slide"
    }
   },
   "source": [
    "### 첫 Github Action\n",
    "- Github Repo 생성! 아무 이름으로 설정\n",
    "- hello.py 파일 push\n",
    "    - 내용 : print(\"hello world\")"
   ]
  },
  {
   "cell_type": "markdown",
   "metadata": {
    "slideshow": {
     "slide_type": "subslide"
    }
   },
   "source": [
    "- Actions 클릭 - New workflow - Continuous integration workflows 더보기 - Python application - Set up the workflow\n",
    "- <img src=\"https://www.dropbox.com/s/upse59860q75ym3/Screenshot%202020-05-30%2015.44.49.png?raw=1\" width=\"800\" height=\"800\">"
   ]
  },
  {
   "cell_type": "markdown",
   "metadata": {
    "slideshow": {
     "slide_type": "subslide"
    }
   },
   "source": [
    "- 아래에 pip install하는 부분과 pytest를 지우고, python3 hello.py 실행하도록 수정\n",
    "    - 템플릿 코드를 조금만 수정함\n",
    "    - <img src=\"https://www.dropbox.com/s/fk9igo6mb6wwn1t/Screenshot%202020-06-04%2023.30.07.png?raw=1\" width=\"800\" height=\"800\">\n",
    "    - python3 hello.py를 다양한 파이썬 버전에서 실행함"
   ]
  },
  {
   "cell_type": "markdown",
   "metadata": {
    "slideshow": {
     "slide_type": "subslide"
    }
   },
   "source": [
    "- 디버깅\n",
    "    - 현재 Github Action은 바로 실행 기능이 없음\n",
    "    - Master branch로 push시 바로 실행으로 테스트하고, Cron으로 정의하는 방식으로 사용\n",
    "    - 참고로 Crontab 실행은 조금 지연이 있는듯"
   ]
  },
  {
   "cell_type": "markdown",
   "metadata": {
    "slideshow": {
     "slide_type": "subslide"
    }
   },
   "source": [
    "- push\n",
    "    - 노란색으로 표시되는 것은 현재 작업 중임을 의미함\n",
    "    - <img src=\"https://www.dropbox.com/s/kcvvq91nfltnarw/Screenshot%202020-06-04%2023.38.53.png?raw=1\" width=\"800\" height=\"800\">"
   ]
  },
  {
   "cell_type": "markdown",
   "metadata": {
    "slideshow": {
     "slide_type": "subslide"
    }
   },
   "source": [
    "- 노란색 아이콘(또는 초록색 체크)를 클릭하면 작업 상태를 확인할 수 있음\n",
    "    - <img src=\"https://www.dropbox.com/s/ho00pazf0gr180w/Screenshot%202020-06-04%2023.40.03.png?raw=1\" width=\"800\" height=\"800\">"
   ]
  },
  {
   "cell_type": "markdown",
   "metadata": {
    "slideshow": {
     "slide_type": "subslide"
    }
   },
   "source": [
    "- Details 클릭\n",
    "    - 세부 작업 내용을 확인할 수 있음\n",
    "    - <img src=\"https://www.dropbox.com/s/ys8qtksld147463/Screenshot%202020-06-04%2023.41.37.png?raw=1\" width=\"800\" height=\"800\">"
   ]
  },
  {
   "cell_type": "markdown",
   "metadata": {
    "slideshow": {
     "slide_type": "slide"
    }
   },
   "source": [
    "### YES24 IT 신간 40개 크롤링해서 Issue에 올리는 Github Action\n",
    "- <img src=\"https://www.dropbox.com/s/tb0g3k1osfn7vqe/Screenshot%202020-06-04%2023.59.05.png?raw=1\" width=\"800\" height=\"800\">"
   ]
  },
  {
   "cell_type": "markdown",
   "metadata": {
    "slideshow": {
     "slide_type": "subslide"
    }
   },
   "source": [
    "- <img src=\"https://www.dropbox.com/s/rio9vo7g2ok6jk2/Screenshot%202020-06-04%2023.59.36.png?raw=1\" width=\"800\" height=\"800\">"
   ]
  },
  {
   "cell_type": "markdown",
   "metadata": {
    "slideshow": {
     "slide_type": "subslide"
    }
   },
   "source": [
    "- (복습) Github Action 사용하는 방식\n",
    "    - 1) 코드 작성\n",
    "    - 2) 코드 작성 후, 진행할 workflow 정의(Test Code, 배포, 단순 작업 등)\n",
    "    - 3) 정상 작동하는지 Test"
   ]
  },
  {
   "cell_type": "markdown",
   "metadata": {
    "slideshow": {
     "slide_type": "subslide"
    }
   },
   "source": [
    "- YES24 Github Action 사용하는 방식\n",
    "    - 1) 코드 작성 : 크롤링 코드 + Issue 업로드 코드 작성\n",
    "    - 2) 코드 작성 후, 진행할 workflow 정의 : 크롤링 코드 실행\n",
    "    - 3) 정상 작동하는지 Test\n",
    "    - 추가 작업 : Github Issue에 글 올리기 위해 Key가 필요함"
   ]
  },
  {
   "cell_type": "markdown",
   "metadata": {
    "slideshow": {
     "slide_type": "subslide"
    }
   },
   "source": [
    "- 1) 크롤링 코드 설명"
   ]
  },
  {
   "cell_type": "markdown",
   "metadata": {
    "slideshow": {
     "slide_type": "subslide"
    }
   },
   "source": [
    "- 2) workflow 정의\n",
    "    ```\n",
    "    name: yes24_crawler\n",
    "\n",
    "    on:\n",
    "      schedule:\n",
    "        - cron: '0 0 * * *'\n",
    "\n",
    "    jobs:\n",
    "      build:\n",
    "        runs-on: ubuntu-latest\n",
    "        steps:\n",
    "        - uses: actions/checkout@v2\n",
    "        - name: Set up Python\n",
    "          uses: actions/setup-python@v2\n",
    "          with:\n",
    "            python-version: 3.7\n",
    "        - name: Install dependencies\n",
    "          run: |\n",
    "            python -m pip install --upgrade pip\n",
    "            if [ -f requirements.txt ]; then pip install -r requirements.txt; fi\n",
    "        - name: Run main.py\n",
    "          run: |\n",
    "            python main.py\n",
    "          env:\n",
    "            MY_GITHUB_TOKEN: ${{ secrets.MY_GITHUB_TOKEN }}\n",
    "    ```\n",
    "    "
   ]
  },
  {
   "cell_type": "markdown",
   "metadata": {
    "slideshow": {
     "slide_type": "subslide"
    }
   },
   "source": [
    "- MY_GITHUB_TOKEN이란?\n",
    "    - 암호화된 키를 노출하지 않으려고 사용\n",
    "    - Github Issue에 글 올릴 때 활용함"
   ]
  },
  {
   "cell_type": "markdown",
   "metadata": {
    "slideshow": {
     "slide_type": "subslide"
    }
   },
   "source": [
    "- secrets.key 등록하는 방법\n",
    "    - [문서](https://help.github.com/en/actions/configuring-and-managing-workflows/creating-and-storing-encrypted-secrets)\n",
    "    - 1) Key 생성하기\n",
    "        - Settings - Developer settings - Personal access tokens - Generate new token 클릭\n",
    "        - 체크박스에 repo, workflow 설정 후 저장\n",
    "        - Value 복사하기\n",
    "    - 2) Secret Key 등록하기\n",
    "        - Repository의 Settings - 왼쪽에 Secrets 클릭\n",
    "        - New secret 클릭하고 Name과 Value 입력하기\n",
    "        - Repository access 쪽으로 가면, access policy를 정할 수 있음\n",
    "        - workflow에서 사용할 땐 ${{ secrets.이름 }} 으로 사용하고, python에선 os.getenv(변수 이름)으로 사용\n",
    "- Master branch에 push 후 테스트"
   ]
  }
 ],
 "metadata": {
  "celltoolbar": "Slideshow",
  "kernelspec": {
   "display_name": "Python 3",
   "language": "python",
   "name": "python3"
  },
  "language_info": {
   "codemirror_mode": {
    "name": "ipython",
    "version": 3
   },
   "file_extension": ".py",
   "mimetype": "text/x-python",
   "name": "python",
   "nbconvert_exporter": "python",
   "pygments_lexer": "ipython3",
   "version": "3.7.4"
  },
  "varInspector": {
   "cols": {
    "lenName": 16,
    "lenType": 16,
    "lenVar": 40
   },
   "kernels_config": {
    "python": {
     "delete_cmd_postfix": "",
     "delete_cmd_prefix": "del ",
     "library": "var_list.py",
     "varRefreshCmd": "print(var_dic_list())"
    },
    "r": {
     "delete_cmd_postfix": ") ",
     "delete_cmd_prefix": "rm(",
     "library": "var_list.r",
     "varRefreshCmd": "cat(var_dic_list()) "
    }
   },
   "types_to_exclude": [
    "module",
    "function",
    "builtin_function_or_method",
    "instance",
    "_Feature"
   ],
   "window_display": false
  }
 },
 "nbformat": 4,
 "nbformat_minor": 2
}
